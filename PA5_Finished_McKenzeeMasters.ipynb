{
 "cells": [
  {
   "cell_type": "markdown",
   "id": "83bce1c3",
   "metadata": {},
   "source": [
    "# Assignment 5\n",
    "### CS 150-01\n",
    "### McKenzee Masters\n",
    "### Version 1"
   ]
  },
  {
   "cell_type": "markdown",
   "id": "37846def",
   "metadata": {},
   "source": [
    "## A)"
   ]
  },
  {
   "cell_type": "code",
   "execution_count": 19,
   "id": "eded0acc",
   "metadata": {},
   "outputs": [
    {
     "name": "stdout",
     "output_type": "stream",
     "text": [
      "Enter the length of side A: 5\n",
      "Enter the length of side B: 5\n",
      "Enter the length of side C: 5\n",
      "The area of the triangle:  10.825317547305483 squar units\n",
      "The perimeter of the triangle:  15 linear units\n"
     ]
    }
   ],
   "source": [
    "def area_tri(s,s2):\n",
    "    return (s*s2)**0.5\n",
    "def peri_tri(a,b,c):\n",
    "    return a+b+c\n",
    "A=int(input(\"Enter the length of side A: \"))\n",
    "B=int(input(\"Enter the length of side B: \"))\n",
    "C=int(input(\"Enter the length of side C: \"))\n",
    "S=((A+B+C)/2)\n",
    "S2=((S-A)*(S-B)*(S-C))\n",
    "print(\"The area of the triangle: \", (area_tri(S,S2)), \"squar units\")\n",
    "print(\"The perimeter of the triangle: \", round(peri_tri(A,B,C)), \"linear units\")"
   ]
  },
  {
   "cell_type": "markdown",
   "id": "eddb0a4c",
   "metadata": {},
   "source": [
    "## B)"
   ]
  },
  {
   "cell_type": "code",
   "execution_count": 30,
   "id": "e8635bf4",
   "metadata": {},
   "outputs": [
    {
     "name": "stdout",
     "output_type": "stream",
     "text": [
      "Enter a number between 1-1000: 868\n",
      "Try guessing lower.\n",
      "Enter a number between 1-1000: 100\n",
      "Try guessing higher.\n",
      "Enter a number between 1-1000: 500\n",
      "Try guessing lower.\n",
      "Enter a number between 1-1000: 400\n",
      "Try guessing lower.\n",
      "Enter a number between 1-1000: 300\n",
      "Try guessing lower.\n",
      "Enter a number between 1-1000: 200\n",
      "Try guessing higher.\n",
      "Enter a number between 1-1000: 250\n",
      "Try guessing lower.\n",
      "Enter a number between 1-1000: 240\n",
      "Try guessing lower.\n",
      "Enter a number between 1-1000: 220\n",
      "Try guessing lower.\n",
      "Enter a number between 1-1000: 210\n",
      "Try guessing lower.\n",
      "Enter a number between 1-1000: 201\n",
      "Try guessing higher.\n",
      "Enter a number between 1-1000: 209\n",
      "Try guessing lower.\n",
      "Enter a number between 1-1000: 207\n",
      "You won! You took 12 chances.\n"
     ]
    }
   ],
   "source": [
    "import random\n",
    "num=[]\n",
    "for i in range(1):\n",
    "    x=random.randint(1,1000)\n",
    "    num.append(x)\n",
    "\n",
    "entered_num=None \n",
    "time=0\n",
    "\n",
    "for value in range(len(num)):\n",
    "    while entered_num!=num:\n",
    "        entered_num=int(input(\"Enter a number between 1-1000: \"))\n",
    "        if entered_num==num[value]:\n",
    "            print(\"You won!\",\"You took\",time, \"chances.\")\n",
    "            break\n",
    "        elif entered_num<num[value]:\n",
    "            print(\"Try guessing higher.\")\n",
    "        else:\n",
    "            print(\"Try guessing lower.\")\n",
    "        time=time+1"
   ]
  },
  {
   "cell_type": "markdown",
   "id": "df97cbf1",
   "metadata": {},
   "source": [
    "## C)"
   ]
  },
  {
   "cell_type": "code",
   "execution_count": 49,
   "id": "27021036",
   "metadata": {},
   "outputs": [
    {
     "name": "stdout",
     "output_type": "stream",
     "text": [
      "The mean temperature for the past 3 days is 31.67 degrees Fahrenheit.\n",
      "The mean temperature for the past 6 days is 30.83 degrees Fahrenheit.\n"
     ]
    }
   ],
   "source": [
    "def meanTemp(*args):\n",
    "    return (sum(args)/len(args))\n",
    "print(\"The mean temperature for the past 3 days is {:.2f} degrees Fahrenheit.\".format(meanTemp(29,32,34)))\n",
    "\n",
    "print(\"The mean temperature for the past 6 days is {:.2f} degrees Fahrenheit.\".format(meanTemp(30,32,12,45,32,34)))"
   ]
  },
  {
   "cell_type": "code",
   "execution_count": null,
   "id": "5867aff7",
   "metadata": {},
   "outputs": [],
   "source": []
  }
 ],
 "metadata": {
  "kernelspec": {
   "display_name": "Python 3 (ipykernel)",
   "language": "python",
   "name": "python3"
  },
  "language_info": {
   "codemirror_mode": {
    "name": "ipython",
    "version": 3
   },
   "file_extension": ".py",
   "mimetype": "text/x-python",
   "name": "python",
   "nbconvert_exporter": "python",
   "pygments_lexer": "ipython3",
   "version": "3.9.12"
  }
 },
 "nbformat": 4,
 "nbformat_minor": 5
}
